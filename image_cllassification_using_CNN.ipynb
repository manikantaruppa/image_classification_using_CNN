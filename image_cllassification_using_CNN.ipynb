{
  "nbformat": 4,
  "nbformat_minor": 0,
  "metadata": {
    "colab": {
      "name": "image_cllassification_using_CNN.ipynb",
      "provenance": [],
      "collapsed_sections": []
    },
    "kernelspec": {
      "name": "python3",
      "display_name": "Python 3"
    },
    "language_info": {
      "name": "python"
    }
  },
  "cells": [
    {
      "cell_type": "code",
      "metadata": {
        "id": "L0QGJcMn4uBM"
      },
      "source": [
        "#importing modules\n",
        "import tensorflow as tf\n",
        "from tensorflow.keras import datasets,layers,models\n",
        "import matplotlib.pyplot as plt\n",
        "import numpy as np"
      ],
      "execution_count": 2,
      "outputs": []
    },
    {
      "cell_type": "markdown",
      "metadata": {
        "id": "fXEale3Tu3WP"
      },
      "source": [
        "**importing dataset**"
      ]
    },
    {
      "cell_type": "code",
      "metadata": {
        "colab": {
          "base_uri": "https://localhost:8080/"
        },
        "id": "3fBjbk5w5AEl",
        "outputId": "fba6610b-02b0-43f3-d107-856682b19d19"
      },
      "source": [
        "(x_train,y_train),(x_test,y_test)=datasets.cifar10.load_data()"
      ],
      "execution_count": 3,
      "outputs": [
        {
          "output_type": "stream",
          "text": [
            "Downloading data from https://www.cs.toronto.edu/~kriz/cifar-10-python.tar.gz\n",
            "170500096/170498071 [==============================] - 4s 0us/step\n"
          ],
          "name": "stdout"
        }
      ]
    },
    {
      "cell_type": "code",
      "metadata": {
        "colab": {
          "base_uri": "https://localhost:8080/"
        },
        "id": "DkEjwvrS5grM",
        "outputId": "4b259e30-c547-46b0-a047-30eb927233c4"
      },
      "source": [
        "x_train.shape"
      ],
      "execution_count": 5,
      "outputs": [
        {
          "output_type": "execute_result",
          "data": {
            "text/plain": [
              "(50000, 32, 32, 3)"
            ]
          },
          "metadata": {
            "tags": []
          },
          "execution_count": 5
        }
      ]
    },
    {
      "cell_type": "code",
      "metadata": {
        "colab": {
          "base_uri": "https://localhost:8080/"
        },
        "id": "Je9aiHsS5naO",
        "outputId": "0060ef2d-a8e9-49e5-c8b1-d1528c51cb5d"
      },
      "source": [
        "x_test.shape"
      ],
      "execution_count": 6,
      "outputs": [
        {
          "output_type": "execute_result",
          "data": {
            "text/plain": [
              "(10000, 32, 32, 3)"
            ]
          },
          "metadata": {
            "tags": []
          },
          "execution_count": 6
        }
      ]
    },
    {
      "cell_type": "markdown",
      "metadata": {
        "id": "V8bHxkNgvC5l"
      },
      "source": [
        "It is classification problem,so the test data have a 2 dimensional we convert that into 1 dimensional"
      ]
    },
    {
      "cell_type": "code",
      "metadata": {
        "id": "Y7AjhfAn5tE8"
      },
      "source": [
        "y_train=y_train.reshape(-1,)\n",
        "y_test=y_test.reshape(-1,)\n"
      ],
      "execution_count": 4,
      "outputs": []
    },
    {
      "cell_type": "code",
      "metadata": {
        "colab": {
          "base_uri": "https://localhost:8080/"
        },
        "id": "8nBL3Iu954Je",
        "outputId": "9941eab6-5ec6-48c8-acfc-a678f588d558"
      },
      "source": [
        "y_train[:4]"
      ],
      "execution_count": 8,
      "outputs": [
        {
          "output_type": "execute_result",
          "data": {
            "text/plain": [
              "array([6, 9, 9, 4], dtype=uint8)"
            ]
          },
          "metadata": {
            "tags": []
          },
          "execution_count": 8
        }
      ]
    },
    {
      "cell_type": "code",
      "metadata": {
        "id": "4G4QVyaM6pL3"
      },
      "source": [
        "classes=[\"airplane\",\"automobile\",\"bird\",\"cat\",\"deer\",\"dog\",\"frog\",\"horse\",\"ship\",\"truck\"]"
      ],
      "execution_count": 5,
      "outputs": []
    },
    {
      "cell_type": "code",
      "metadata": {
        "id": "pDAD_UNX7HgO"
      },
      "source": [
        "def sample_plot(x,y,index):\n",
        "  plt.figure(figsize=(15,4))\n",
        "  plt.imshow(x[index])\n",
        "  plt.xlabel(classes[y[index]])"
      ],
      "execution_count": 6,
      "outputs": []
    },
    {
      "cell_type": "code",
      "metadata": {
        "colab": {
          "base_uri": "https://localhost:8080/",
          "height": 280
        },
        "id": "Cu6_wQvl8O1C",
        "outputId": "f5582b8f-c0ae-4705-fcaa-568a1c61eaf7"
      },
      "source": [
        "sample_plot(x_train,y_train,2)"
      ],
      "execution_count": 11,
      "outputs": [
        {
          "output_type": "display_data",
          "data": {
            "image/png": "[encoded data removed]",
            "text/plain": [
              "<Figure size 1080x288 with 1 Axes>"
            ]
          },
          "metadata": {
            "tags": [],
            "needs_background": "light"
          }
        }
      ]
    },
    {
      "cell_type": "markdown",
      "metadata": {
        "id": "16ywiXa6-O0J"
      },
      "source": [
        "**Normalization**"
      ]
    },
    {
      "cell_type": "code",
      "metadata": {
        "id": "QnoH8xAE8Xkq"
      },
      "source": [
        "x_train=x_train/255\n",
        "x_test=x_test/255"
      ],
      "execution_count": 7,
      "outputs": []
    },
    {
      "cell_type": "markdown",
      "metadata": {
        "id": "ZmCq6Ou6-YG-"
      },
      "source": [
        "**creating the model using ANN**"
      ]
    },
    {
      "cell_type": "code",
      "metadata": {
        "id": "E54FHP0W-eqb",
        "colab": {
          "base_uri": "https://localhost:8080/"
        },
        "outputId": "4cbb1f39-9113-422e-f0c5-b59b86387cfa"
      },
      "source": [
        "ann=models.Sequential([\n",
        "                      layers.Flatten(input_shape=(32,32,3)),\n",
        "                      layers.Dense(3000, activation='relu'),\n",
        "                      layers.Dense(1000, activation='relu'),\n",
        "                      layers.Dense(10, activation='softmax')\n",
        "])\n",
        "ann.compile(\n",
        "    optimizer='SGD',\n",
        "    loss='sparse_categorical_crossentropy',\n",
        "    metrics=['accuracy'])\n",
        "ann.fit(x_train,y_train,epochs=3)"
      ],
      "execution_count": 13,
      "outputs": [
        {
          "output_type": "stream",
          "text": [
            "Epoch 1/3\n",
            "1563/1563 [==============================] - 103s 65ms/step - loss: 1.8129 - accuracy: 0.3554\n",
            "Epoch 2/3\n",
            "1563/1563 [==============================] - 107s 68ms/step - loss: 1.6227 - accuracy: 0.4273\n",
            "Epoch 3/3\n",
            "1563/1563 [==============================] - 106s 68ms/step - loss: 1.5399 - accuracy: 0.4597\n"
          ],
          "name": "stdout"
        },
        {
          "output_type": "execute_result",
          "data": {
            "text/plain": [
              "<tensorflow.python.keras.callbacks.History at 0x7f2e829fc490>"
            ]
          },
          "metadata": {
            "tags": []
          },
          "execution_count": 13
        }
      ]
    },
    {
      "cell_type": "markdown",
      "metadata": {
        "id": "YRHjblcqvep1"
      },
      "source": [
        "**Testing the model**"
      ]
    },
    {
      "cell_type": "code",
      "metadata": {
        "colab": {
          "base_uri": "https://localhost:8080/"
        },
        "id": "INYy7qsVC7ob",
        "outputId": "2dac4404-29b7-4af8-ea56-39f4df87300b"
      },
      "source": [
        "ann.evaluate(x_test,y_test)"
      ],
      "execution_count": 14,
      "outputs": [
        {
          "output_type": "stream",
          "text": [
            "313/313 [==============================] - 8s 26ms/step - loss: 1.5594 - accuracy: 0.4481\n"
          ],
          "name": "stdout"
        },
        {
          "output_type": "execute_result",
          "data": {
            "text/plain": [
              "[1.5593515634536743, 0.4481000006198883]"
            ]
          },
          "metadata": {
            "tags": []
          },
          "execution_count": 14
        }
      ]
    },
    {
      "cell_type": "code",
      "metadata": {
        "id": "iNUrEPOqJ5ZE"
      },
      "source": [
        "from sklearn.metrics import confusion_matrix,classification_report\n",
        "y_pred=ann.predict(x_test)\n",
        "y_pred_class=[np.argmax(element) for element in y_pred]"
      ],
      "execution_count": 15,
      "outputs": []
    },
    {
      "cell_type": "code",
      "metadata": {
        "colab": {
          "base_uri": "https://localhost:8080/"
        },
        "id": "ionSO1JUKu7U",
        "outputId": "6c35d070-775e-4b0e-dc80-5b7c12926b89"
      },
      "source": [
        "print('Classification report: \\n',classification_report(y_test,y_pred_class))"
      ],
      "execution_count": 16,
      "outputs": [
        {
          "output_type": "stream",
          "text": [
            "Classification report: \n",
            "               precision    recall  f1-score   support\n",
            "\n",
            "           0       0.60      0.41      0.48      1000\n",
            "           1       0.69      0.45      0.54      1000\n",
            "           2       0.32      0.39      0.35      1000\n",
            "           3       0.41      0.10      0.16      1000\n",
            "           4       0.54      0.22      0.31      1000\n",
            "           5       0.37      0.43      0.39      1000\n",
            "           6       0.41      0.66      0.51      1000\n",
            "           7       0.34      0.72      0.46      1000\n",
            "           8       0.63      0.57      0.60      1000\n",
            "           9       0.52      0.55      0.53      1000\n",
            "\n",
            "    accuracy                           0.45     10000\n",
            "   macro avg       0.48      0.45      0.43     10000\n",
            "weighted avg       0.48      0.45      0.43     10000\n",
            "\n"
          ],
          "name": "stdout"
        }
      ]
    },
    {
      "cell_type": "markdown",
      "metadata": {
        "id": "Yf4pFvQiJdu7"
      },
      "source": [
        "from the above we see the accuracy of ANN is very poor\n"
      ]
    },
    {
      "cell_type": "markdown",
      "metadata": {
        "id": "FZd0Gpi-JoYw"
      },
      "source": [
        "**creating model using CNN**"
      ]
    },
    {
      "cell_type": "code",
      "metadata": {
        "colab": {
          "base_uri": "https://localhost:8080/"
        },
        "id": "i5QGwLUnGQbH",
        "outputId": "43d3f06a-d602-4929-e40e-4f67f0219bcb"
      },
      "source": [
        "cnn=models.Sequential([\n",
        "                       layers.Conv2D(filters=50,kernel_size=(3,3),activation='relu',input_shape=(32,32,3)),\n",
        "                       layers.MaxPooling2D(2,2),\n",
        "\n",
        "                       layers.Conv2D(filters=50,kernel_size=(3,3),activation='relu',input_shape=(32,32,3)),\n",
        "                       layers.MaxPooling2D(2,2),\n",
        "            \n",
        "                      layers.Flatten(),\n",
        "                      layers.Dense(150, activation='relu'),\n",
        "                      layers.Dense(10, activation='softmax')\n",
        "])\n",
        "cnn.compile(\n",
        "    optimizer='Adam',\n",
        "    loss='sparse_categorical_crossentropy',\n",
        "    metrics=['accuracy'])\n",
        "cnn.fit(x_train,y_train,epochs=10)"
      ],
      "execution_count": 10,
      "outputs": [
        {
          "output_type": "stream",
          "text": [
            "Epoch 1/10\n",
            "1563/1563 [==============================] - 97s 62ms/step - loss: 1.4252 - accuracy: 0.4877\n",
            "Epoch 2/10\n",
            "1563/1563 [==============================] - 95s 61ms/step - loss: 1.0702 - accuracy: 0.6243\n",
            "Epoch 3/10\n",
            "1563/1563 [==============================] - 95s 61ms/step - loss: 0.9229 - accuracy: 0.6756\n",
            "Epoch 4/10\n",
            "1563/1563 [==============================] - 95s 60ms/step - loss: 0.8154 - accuracy: 0.7157\n",
            "Epoch 5/10\n",
            "1563/1563 [==============================] - 95s 61ms/step - loss: 0.7307 - accuracy: 0.7433\n",
            "Epoch 6/10\n",
            "1563/1563 [==============================] - 93s 60ms/step - loss: 0.6529 - accuracy: 0.7702\n",
            "Epoch 7/10\n",
            "1563/1563 [==============================] - 94s 60ms/step - loss: 0.5908 - accuracy: 0.7919\n",
            "Epoch 8/10\n",
            "1563/1563 [==============================] - 96s 61ms/step - loss: 0.5249 - accuracy: 0.8164\n",
            "Epoch 9/10\n",
            "1563/1563 [==============================] - 95s 60ms/step - loss: 0.4688 - accuracy: 0.8348\n",
            "Epoch 10/10\n",
            "1563/1563 [==============================] - 94s 60ms/step - loss: 0.4167 - accuracy: 0.8533\n"
          ],
          "name": "stdout"
        },
        {
          "output_type": "execute_result",
          "data": {
            "text/plain": [
              "<tensorflow.python.keras.callbacks.History at 0x7f2e04714fd0>"
            ]
          },
          "metadata": {
            "tags": []
          },
          "execution_count": 10
        }
      ]
    },
    {
      "cell_type": "markdown",
      "metadata": {
        "id": "L7Q5ZaYgJ3kC"
      },
      "source": [
        "when compared to ANN, the CNN gives a very good  accuracy\n"
      ]
    },
    {
      "cell_type": "code",
      "metadata": {
        "colab": {
          "base_uri": "https://localhost:8080/"
        },
        "id": "SZuPPit4MoMf",
        "outputId": "3191e9fd-4084-4373-889c-be62d0905622"
      },
      "source": [
        "cnn.evaluate(x_test,y_test)"
      ],
      "execution_count": 11,
      "outputs": [
        {
          "output_type": "stream",
          "text": [
            "313/313 [==============================] - 5s 17ms/step - loss: 1.0590 - accuracy: 0.6891\n"
          ],
          "name": "stdout"
        },
        {
          "output_type": "execute_result",
          "data": {
            "text/plain": [
              "[1.0589704513549805, 0.6891000270843506]"
            ]
          },
          "metadata": {
            "tags": []
          },
          "execution_count": 11
        }
      ]
    },
    {
      "cell_type": "code",
      "metadata": {
        "id": "ltPOY574jE5Y"
      },
      "source": [
        "y_pred=cnn.predict(x_test)"
      ],
      "execution_count": 12,
      "outputs": []
    },
    {
      "cell_type": "code",
      "metadata": {
        "id": "exbhVd2NKIi3"
      },
      "source": [
        "y_pred_class= [np.argmax(i) for i in y_pred]"
      ],
      "execution_count": 13,
      "outputs": []
    },
    {
      "cell_type": "code",
      "metadata": {
        "colab": {
          "base_uri": "https://localhost:8080/"
        },
        "id": "E__DQFPLPmW-",
        "outputId": "1efba2bc-ef8c-49e9-85ff-bb95a72b9c29"
      },
      "source": [
        "y_test[:10]"
      ],
      "execution_count": 14,
      "outputs": [
        {
          "output_type": "execute_result",
          "data": {
            "text/plain": [
              "array([3, 8, 8, 0, 6, 6, 1, 6, 3, 1], dtype=uint8)"
            ]
          },
          "metadata": {
            "tags": []
          },
          "execution_count": 14
        }
      ]
    },
    {
      "cell_type": "code",
      "metadata": {
        "colab": {
          "base_uri": "https://localhost:8080/"
        },
        "id": "jzGYOXU500g2",
        "outputId": "b97a0273-b7c5-45a1-ea77-7dbab614f0e1"
      },
      "source": [
        "y_pred_class[:10]"
      ],
      "execution_count": 15,
      "outputs": [
        {
          "output_type": "execute_result",
          "data": {
            "text/plain": [
              "[3, 8, 8, 0, 6, 6, 1, 6, 3, 1]"
            ]
          },
          "metadata": {
            "tags": []
          },
          "execution_count": 15
        }
      ]
    },
    {
      "cell_type": "code",
      "metadata": {
        "colab": {
          "base_uri": "https://localhost:8080/",
          "height": 280
        },
        "id": "MQMnOh-TQY4R",
        "outputId": "fc916709-44d9-4a55-9fca-ed9a3015145a"
      },
      "source": [
        "sample_plot(x_test,y_test,3)"
      ],
      "execution_count": 17,
      "outputs": [
        {
          "output_type": "display_data",
          "data": {
            "image/png": "[encoded data removed]",
            "text/plain": [
              "<Figure size 1080x288 with 1 Axes>"
            ]
          },
          "metadata": {
            "tags": [],
            "needs_background": "light"
          }
        }
      ]
    },
    {
      "cell_type": "code",
      "metadata": {
        "colab": {
          "base_uri": "https://localhost:8080/",
          "height": 35
        },
        "id": "GF2UpzbgQsnO",
        "outputId": "9ad1e989-26a7-492d-d05f-7ee559eb252f"
      },
      "source": [
        "classes[y_pred_class[3]]"
      ],
      "execution_count": 18,
      "outputs": [
        {
          "output_type": "execute_result",
          "data": {
            "application/vnd.google.colaboratory.intrinsic+json": {
              "type": "string"
            },
            "text/plain": [
              "'airplane'"
            ]
          },
          "metadata": {
            "tags": []
          },
          "execution_count": 18
        }
      ]
    },
    {
      "cell_type": "markdown",
      "metadata": {
        "id": "jizkxmTY1LWY"
      },
      "source": [
        "From the above,the test value and predicted value are equal "
      ]
    },
    {
      "cell_type": "markdown",
      "metadata": {
        "id": "mC4-OLtE1yAf"
      },
      "source": [
        "**Classification report**"
      ]
    },
    {
      "cell_type": "code",
      "metadata": {
        "id": "2qy7XfelQM2U"
      },
      "source": [
        "from sklearn.metrics import confusion_matrix,classification_report\n",
        "y_pred=cnn.predict(x_test)\n",
        "y_pred_class=[np.argmax(element) for element in y_pred]"
      ],
      "execution_count": 19,
      "outputs": []
    },
    {
      "cell_type": "code",
      "metadata": {
        "colab": {
          "base_uri": "https://localhost:8080/"
        },
        "id": "Z8wiYkTKQQRh",
        "outputId": "07523d90-8840-4f81-abf4-fd4db8c76e6c"
      },
      "source": [
        "print('Classification report: \\n',classification_report(y_test,y_pred_class))"
      ],
      "execution_count": 20,
      "outputs": [
        {
          "output_type": "stream",
          "text": [
            "Classification report: \n",
            "               precision    recall  f1-score   support\n",
            "\n",
            "           0       0.78      0.68      0.72      1000\n",
            "           1       0.84      0.75      0.79      1000\n",
            "           2       0.51      0.64      0.57      1000\n",
            "           3       0.57      0.41      0.48      1000\n",
            "           4       0.61      0.66      0.63      1000\n",
            "           5       0.62      0.58      0.60      1000\n",
            "           6       0.73      0.82      0.77      1000\n",
            "           7       0.74      0.75      0.74      1000\n",
            "           8       0.76      0.84      0.80      1000\n",
            "           9       0.76      0.77      0.77      1000\n",
            "\n",
            "    accuracy                           0.69     10000\n",
            "   macro avg       0.69      0.69      0.69     10000\n",
            "weighted avg       0.69      0.69      0.69     10000\n",
            "\n"
          ],
          "name": "stdout"
        }
      ]
    },
    {
      "cell_type": "code",
      "metadata": {
        "id": "o38xbER52BfX"
      },
      "source": [
        ""
      ],
      "execution_count": null,
      "outputs": []
    }
  ]
}